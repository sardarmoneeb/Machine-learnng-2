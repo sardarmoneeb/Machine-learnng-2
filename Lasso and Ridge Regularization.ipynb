{
 "cells": [
  {
   "cell_type": "code",
   "execution_count": 1,
   "id": "df01ec7f-cf35-43d8-a3d0-459a24ff8ac9",
   "metadata": {},
   "outputs": [],
   "source": [
    "import pandas as pd\n",
    "import seaborn as sns\n",
    "import matplotlib.pyplot as plt\n",
    "from sklearn.preprocessing import StandardScaler\n",
    "from sklearn.model_selection import train_test_split"
   ]
  },
  {
   "cell_type": "code",
   "execution_count": 2,
   "id": "8df64eb6-60db-4d97-8c96-65c7e68dbf38",
   "metadata": {},
   "outputs": [],
   "source": [
    "dataset = pd.read_excel(r\"D:\\Kaggle datasets\\houseprice.xlsx\")"
   ]
  },
  {
   "cell_type": "code",
   "execution_count": 3,
   "id": "b5bf5df6-45b4-486c-b10f-0bc35d3563bb",
   "metadata": {},
   "outputs": [
    {
     "data": {
      "text/html": [
       "<div>\n",
       "<style scoped>\n",
       "    .dataframe tbody tr th:only-of-type {\n",
       "        vertical-align: middle;\n",
       "    }\n",
       "\n",
       "    .dataframe tbody tr th {\n",
       "        vertical-align: top;\n",
       "    }\n",
       "\n",
       "    .dataframe thead th {\n",
       "        text-align: right;\n",
       "    }\n",
       "</style>\n",
       "<table border=\"1\" class=\"dataframe\">\n",
       "  <thead>\n",
       "    <tr style=\"text-align: right;\">\n",
       "      <th></th>\n",
       "      <th>Area</th>\n",
       "      <th>Room</th>\n",
       "      <th>Parking</th>\n",
       "      <th>Warehouse</th>\n",
       "      <th>Elevator</th>\n",
       "      <th>Address</th>\n",
       "      <th>Price</th>\n",
       "      <th>Price(USD)</th>\n",
       "    </tr>\n",
       "  </thead>\n",
       "  <tbody>\n",
       "    <tr>\n",
       "      <th>0</th>\n",
       "      <td>63</td>\n",
       "      <td>1</td>\n",
       "      <td>True</td>\n",
       "      <td>True</td>\n",
       "      <td>True</td>\n",
       "      <td>Shahran</td>\n",
       "      <td>1850000000</td>\n",
       "      <td>61666.67</td>\n",
       "    </tr>\n",
       "    <tr>\n",
       "      <th>1</th>\n",
       "      <td>60</td>\n",
       "      <td>1</td>\n",
       "      <td>True</td>\n",
       "      <td>True</td>\n",
       "      <td>True</td>\n",
       "      <td>Shahran</td>\n",
       "      <td>1850000000</td>\n",
       "      <td>61666.67</td>\n",
       "    </tr>\n",
       "    <tr>\n",
       "      <th>2</th>\n",
       "      <td>79</td>\n",
       "      <td>2</td>\n",
       "      <td>True</td>\n",
       "      <td>True</td>\n",
       "      <td>True</td>\n",
       "      <td>Pardis</td>\n",
       "      <td>550000000</td>\n",
       "      <td>18333.33</td>\n",
       "    </tr>\n",
       "    <tr>\n",
       "      <th>3</th>\n",
       "      <td>95</td>\n",
       "      <td>2</td>\n",
       "      <td>True</td>\n",
       "      <td>True</td>\n",
       "      <td>True</td>\n",
       "      <td>Shahrake Qods</td>\n",
       "      <td>902500000</td>\n",
       "      <td>30083.33</td>\n",
       "    </tr>\n",
       "    <tr>\n",
       "      <th>4</th>\n",
       "      <td>123</td>\n",
       "      <td>2</td>\n",
       "      <td>True</td>\n",
       "      <td>True</td>\n",
       "      <td>True</td>\n",
       "      <td>Shahrake Gharb</td>\n",
       "      <td>7000000000</td>\n",
       "      <td>233333.33</td>\n",
       "    </tr>\n",
       "  </tbody>\n",
       "</table>\n",
       "</div>"
      ],
      "text/plain": [
       "   Area  Room  Parking  Warehouse  Elevator         Address       Price  \\\n",
       "0    63     1     True       True      True         Shahran  1850000000   \n",
       "1    60     1     True       True      True         Shahran  1850000000   \n",
       "2    79     2     True       True      True          Pardis   550000000   \n",
       "3    95     2     True       True      True   Shahrake Qods   902500000   \n",
       "4   123     2     True       True      True  Shahrake Gharb  7000000000   \n",
       "\n",
       "   Price(USD)  \n",
       "0    61666.67  \n",
       "1    61666.67  \n",
       "2    18333.33  \n",
       "3    30083.33  \n",
       "4   233333.33  "
      ]
     },
     "execution_count": 3,
     "metadata": {},
     "output_type": "execute_result"
    }
   ],
   "source": [
    "dataset.head(5)"
   ]
  },
  {
   "cell_type": "code",
   "execution_count": 4,
   "id": "5ce52c13-0eba-4d2a-94e4-41e4e0058488",
   "metadata": {},
   "outputs": [
    {
     "data": {
      "text/plain": [
       "Area           0\n",
       "Room           0\n",
       "Parking        0\n",
       "Warehouse      0\n",
       "Elevator       0\n",
       "Address       23\n",
       "Price          0\n",
       "Price(USD)     0\n",
       "dtype: int64"
      ]
     },
     "execution_count": 4,
     "metadata": {},
     "output_type": "execute_result"
    }
   ],
   "source": [
    "dataset.isnull().sum()"
   ]
  },
  {
   "cell_type": "code",
   "execution_count": 11,
   "id": "e1863d3f-0c1c-4b19-89c8-5ff28a625cd2",
   "metadata": {},
   "outputs": [],
   "source": [
    "dataset[\"Address\"]=dataset[\"Address\"].fillna(dataset[\"Address\"].mode()[0])\n",
    "dataset['Address'] = dataset['Address'].astype('category').cat.codes\n"
   ]
  },
  {
   "cell_type": "code",
   "execution_count": 12,
   "id": "8e4b4f22-6526-4ace-b845-de5ec86c7b19",
   "metadata": {},
   "outputs": [
    {
     "data": {
      "text/plain": [
       "Area          0\n",
       "Room          0\n",
       "Parking       0\n",
       "Warehouse     0\n",
       "Elevator      0\n",
       "Address       0\n",
       "Price         0\n",
       "Price(USD)    0\n",
       "dtype: int64"
      ]
     },
     "execution_count": 12,
     "metadata": {},
     "output_type": "execute_result"
    }
   ],
   "source": [
    "dataset.isnull().sum()"
   ]
  },
  {
   "cell_type": "code",
   "execution_count": 58,
   "id": "bdf88445-b69d-44e7-91e9-bb132ff82a74",
   "metadata": {},
   "outputs": [],
   "source": [
    "x = dataset.iloc[:, :-2]\n",
    "y = dataset[\"Price\"]"
   ]
  },
  {
   "cell_type": "code",
   "execution_count": 59,
   "id": "2d9fd3fc-d7f2-407f-965f-77ceefd49d3d",
   "metadata": {},
   "outputs": [],
   "source": [
    "# sns.heatmap(data=dataset.corr(),annot=True)\n",
    "# plt.show()"
   ]
  },
  {
   "cell_type": "code",
   "execution_count": 60,
   "id": "0cc6fb32-fcf1-4cf6-8c3a-836d1b1e5c11",
   "metadata": {},
   "outputs": [
    {
     "data": {
      "text/html": [
       "<div>\n",
       "<style scoped>\n",
       "    .dataframe tbody tr th:only-of-type {\n",
       "        vertical-align: middle;\n",
       "    }\n",
       "\n",
       "    .dataframe tbody tr th {\n",
       "        vertical-align: top;\n",
       "    }\n",
       "\n",
       "    .dataframe thead th {\n",
       "        text-align: right;\n",
       "    }\n",
       "</style>\n",
       "<table border=\"1\" class=\"dataframe\">\n",
       "  <thead>\n",
       "    <tr style=\"text-align: right;\">\n",
       "      <th></th>\n",
       "      <th>Area</th>\n",
       "      <th>Room</th>\n",
       "      <th>Parking</th>\n",
       "      <th>Warehouse</th>\n",
       "      <th>Elevator</th>\n",
       "      <th>Address</th>\n",
       "    </tr>\n",
       "  </thead>\n",
       "  <tbody>\n",
       "    <tr>\n",
       "      <th>0</th>\n",
       "      <td>-0.027611</td>\n",
       "      <td>-1.424368</td>\n",
       "      <td>0.423464</td>\n",
       "      <td>0.305512</td>\n",
       "      <td>0.51978</td>\n",
       "      <td>1.015038</td>\n",
       "    </tr>\n",
       "    <tr>\n",
       "      <th>1</th>\n",
       "      <td>-0.027611</td>\n",
       "      <td>-1.424368</td>\n",
       "      <td>0.423464</td>\n",
       "      <td>0.305512</td>\n",
       "      <td>0.51978</td>\n",
       "      <td>1.015038</td>\n",
       "    </tr>\n",
       "    <tr>\n",
       "      <th>2</th>\n",
       "      <td>-0.027611</td>\n",
       "      <td>-0.105396</td>\n",
       "      <td>0.423464</td>\n",
       "      <td>0.305512</td>\n",
       "      <td>0.51978</td>\n",
       "      <td>0.237706</td>\n",
       "    </tr>\n",
       "    <tr>\n",
       "      <th>3</th>\n",
       "      <td>-0.027611</td>\n",
       "      <td>-0.105396</td>\n",
       "      <td>0.423464</td>\n",
       "      <td>0.305512</td>\n",
       "      <td>0.51978</td>\n",
       "      <td>0.935311</td>\n",
       "    </tr>\n",
       "    <tr>\n",
       "      <th>4</th>\n",
       "      <td>-0.027611</td>\n",
       "      <td>-0.105396</td>\n",
       "      <td>0.423464</td>\n",
       "      <td>0.305512</td>\n",
       "      <td>0.51978</td>\n",
       "      <td>0.895448</td>\n",
       "    </tr>\n",
       "    <tr>\n",
       "      <th>...</th>\n",
       "      <td>...</td>\n",
       "      <td>...</td>\n",
       "      <td>...</td>\n",
       "      <td>...</td>\n",
       "      <td>...</td>\n",
       "      <td>...</td>\n",
       "    </tr>\n",
       "    <tr>\n",
       "      <th>3474</th>\n",
       "      <td>-0.027611</td>\n",
       "      <td>-0.105396</td>\n",
       "      <td>0.423464</td>\n",
       "      <td>0.305512</td>\n",
       "      <td>0.51978</td>\n",
       "      <td>1.154559</td>\n",
       "    </tr>\n",
       "    <tr>\n",
       "      <th>3475</th>\n",
       "      <td>-0.027611</td>\n",
       "      <td>-0.105396</td>\n",
       "      <td>0.423464</td>\n",
       "      <td>0.305512</td>\n",
       "      <td>0.51978</td>\n",
       "      <td>-0.001472</td>\n",
       "    </tr>\n",
       "    <tr>\n",
       "      <th>3476</th>\n",
       "      <td>-0.027611</td>\n",
       "      <td>-0.105396</td>\n",
       "      <td>-2.361474</td>\n",
       "      <td>-3.273195</td>\n",
       "      <td>-1.92389</td>\n",
       "      <td>0.197843</td>\n",
       "    </tr>\n",
       "    <tr>\n",
       "      <th>3477</th>\n",
       "      <td>-0.027611</td>\n",
       "      <td>-0.105396</td>\n",
       "      <td>0.423464</td>\n",
       "      <td>0.305512</td>\n",
       "      <td>0.51978</td>\n",
       "      <td>-1.316956</td>\n",
       "    </tr>\n",
       "    <tr>\n",
       "      <th>3478</th>\n",
       "      <td>-0.027611</td>\n",
       "      <td>-0.105396</td>\n",
       "      <td>-2.361474</td>\n",
       "      <td>0.305512</td>\n",
       "      <td>0.51978</td>\n",
       "      <td>0.197843</td>\n",
       "    </tr>\n",
       "  </tbody>\n",
       "</table>\n",
       "<p>3479 rows × 6 columns</p>\n",
       "</div>"
      ],
      "text/plain": [
       "          Area      Room   Parking  Warehouse  Elevator   Address\n",
       "0    -0.027611 -1.424368  0.423464   0.305512   0.51978  1.015038\n",
       "1    -0.027611 -1.424368  0.423464   0.305512   0.51978  1.015038\n",
       "2    -0.027611 -0.105396  0.423464   0.305512   0.51978  0.237706\n",
       "3    -0.027611 -0.105396  0.423464   0.305512   0.51978  0.935311\n",
       "4    -0.027611 -0.105396  0.423464   0.305512   0.51978  0.895448\n",
       "...        ...       ...       ...        ...       ...       ...\n",
       "3474 -0.027611 -0.105396  0.423464   0.305512   0.51978  1.154559\n",
       "3475 -0.027611 -0.105396  0.423464   0.305512   0.51978 -0.001472\n",
       "3476 -0.027611 -0.105396 -2.361474  -3.273195  -1.92389  0.197843\n",
       "3477 -0.027611 -0.105396  0.423464   0.305512   0.51978 -1.316956\n",
       "3478 -0.027611 -0.105396 -2.361474   0.305512   0.51978  0.197843\n",
       "\n",
       "[3479 rows x 6 columns]"
      ]
     },
     "execution_count": 60,
     "metadata": {},
     "output_type": "execute_result"
    }
   ],
   "source": [
    "ss=StandardScaler()\n",
    "ss.fit(x)\n",
    "x=pd.DataFrame(ss.transform(x),columns=x.columns)\n",
    "x"
   ]
  },
  {
   "cell_type": "code",
   "execution_count": 61,
   "id": "de67dd7c-063c-417c-a1bd-5c71d7512b63",
   "metadata": {},
   "outputs": [
    {
     "data": {
      "image/png": "[encoded data removed]",
      "text/plain": [
       "<Figure size 1000x1000 with 2 Axes>"
      ]
     },
     "metadata": {},
     "output_type": "display_data"
    }
   ],
   "source": [
    "plt.figure(figsize=(10,10))\n",
    "sns.heatmap(data=dataset.corr(),annot=True)\n",
    "plt.show()"
   ]
  },
  {
   "cell_type": "code",
   "execution_count": 62,
   "id": "db58bdd3-544a-4e65-8096-5d06b39af775",
   "metadata": {},
   "outputs": [
    {
     "data": {
      "text/plain": [
       "(3479, 6)"
      ]
     },
     "execution_count": 62,
     "metadata": {},
     "output_type": "execute_result"
    }
   ],
   "source": [
    "x.shape"
   ]
  },
  {
   "cell_type": "code",
   "execution_count": 93,
   "id": "132a34fe-c543-49f0-be33-c70ab37801f7",
   "metadata": {},
   "outputs": [],
   "source": [
    "x_train,x_test,y_train,y_test=train_test_split(x,y,test_size=0.3,random_state=48)"
   ]
  },
  {
   "cell_type": "code",
   "execution_count": 94,
   "id": "f64c6431-0d85-417c-9a56-cbc90305f023",
   "metadata": {},
   "outputs": [
    {
     "data": {
      "text/plain": [
       "(2435, 6)"
      ]
     },
     "execution_count": 94,
     "metadata": {},
     "output_type": "execute_result"
    }
   ],
   "source": [
    "x_train.shape"
   ]
  },
  {
   "cell_type": "code",
   "execution_count": 95,
   "id": "45f77df9-9e15-4b76-9fe3-699ad9ada7cb",
   "metadata": {},
   "outputs": [
    {
     "data": {
      "text/plain": [
       "(1044, 6)"
      ]
     },
     "execution_count": 95,
     "metadata": {},
     "output_type": "execute_result"
    }
   ],
   "source": [
    "x_test.shape"
   ]
  },
  {
   "cell_type": "code",
   "execution_count": 137,
   "id": "2e4a4850-d086-4167-8e3e-5f7577a76a90",
   "metadata": {},
   "outputs": [],
   "source": [
    "from sklearn.linear_model import LinearRegression, Lasso, Ridge\n",
    "from sklearn.metrics import mean_absolute_error, mean_squared_error\n",
    "import numpy as np"
   ]
  },
  {
   "cell_type": "markdown",
   "id": "a4c5e359-bd5d-4715-8b23-6a55e630d0b2",
   "metadata": {},
   "source": [
    "# Linear Regression"
   ]
  },
  {
   "cell_type": "code",
   "execution_count": 138,
   "id": "e2c32235-7bd5-4260-90b0-95a15ea521ea",
   "metadata": {},
   "outputs": [
    {
     "data": {
      "text/plain": [
       "37.49506328474938"
      ]
     },
     "execution_count": 138,
     "metadata": {},
     "output_type": "execute_result"
    }
   ],
   "source": [
    "lr=LinearRegression()\n",
    "lr.fit(x_train,y_train)\n",
    "lr.score(x_test,y_test)*100"
   ]
  },
  {
   "cell_type": "code",
   "execution_count": 139,
   "id": "ed12a71b-a518-47dc-a5e9-c7eb2290b862",
   "metadata": {},
   "outputs": [
    {
     "data": {
      "text/plain": [
       "array([ 1.03830029e+08,  4.28516833e+09,  1.90242766e+08,  2.01597699e+08,\n",
       "        9.85358339e+07, -1.46001943e+08])"
      ]
     },
     "execution_count": 139,
     "metadata": {},
     "output_type": "execute_result"
    }
   ],
   "source": [
    "lr.coef_"
   ]
  },
  {
   "cell_type": "code",
   "execution_count": 143,
   "id": "07f9b50f-e428-4173-915f-d561afec135f",
   "metadata": {},
   "outputs": [
    {
     "name": "stdout",
     "output_type": "stream",
     "text": [
      "3833048623.315744\n",
      "4.518751717060258e+19\n",
      "61911.61945318297\n"
     ]
    }
   ],
   "source": [
    "print(mean_absolute_error(y_test,lr.predict(x_test)))\n",
    "print(mean_squared_error(y_test,lr.predict(x_test)))\n",
    "print(np.sqrt(mean_absolute_error(y_test,lr.predict(x_test))))"
   ]
  },
  {
   "cell_type": "code",
   "execution_count": 136,
   "id": "c3bbf6fa-4d9b-4744-8324-21981088bd7b",
   "metadata": {},
   "outputs": [
    {
     "data": {
      "image/png": "[encoded data removed]",
      "text/plain": [
       "<Figure size 1000x800 with 1 Axes>"
      ]
     },
     "metadata": {},
     "output_type": "display_data"
    }
   ],
   "source": [
    "plt.figure(figsize=(10,8))\n",
    "plt.title(\"Linear Regression\")\n",
    "plt.xlabel(\"Columns\")\n",
    "plt.ylabel(\"coef\")\n",
    "plt.bar(x.columns,lr.coef_)\n",
    "plt.show()"
   ]
  },
  {
   "cell_type": "markdown",
   "id": "ddf7fcf3-7af1-49c4-a662-802df40ce7e6",
   "metadata": {},
   "source": [
    "# Lasso"
   ]
  },
  {
   "cell_type": "code",
   "execution_count": 127,
   "id": "d54d33d2-8538-467d-aef9-5438aff685be",
   "metadata": {},
   "outputs": [
    {
     "data": {
      "text/plain": [
       "37.49506328152923"
      ]
     },
     "execution_count": 127,
     "metadata": {},
     "output_type": "execute_result"
    }
   ],
   "source": [
    "la=Lasso(alpha=1.5)\n",
    "la.fit(x_train,y_train)\n",
    "la.score(x_test,y_test)*100"
   ]
  },
  {
   "cell_type": "code",
   "execution_count": 128,
   "id": "d9795676-c37e-4f5d-b6a2-aea1e2641189",
   "metadata": {},
   "outputs": [
    {
     "data": {
      "image/png": "[encoded data removed]",
      "text/plain": [
       "<Figure size 1000x800 with 1 Axes>"
      ]
     },
     "metadata": {},
     "output_type": "display_data"
    }
   ],
   "source": [
    "plt.figure(figsize=(10,8))\n",
    "plt.title(\"Lasso Regression\")\n",
    "plt.xlabel(\"Columns\")\n",
    "plt.ylabel(\"coef\")\n",
    "plt.bar(x.columns,la.coef_)\n",
    "plt.show()"
   ]
  },
  {
   "cell_type": "markdown",
   "id": "0256fa20-751b-4223-9524-2b44ceff48ae",
   "metadata": {},
   "source": [
    "# Ridge"
   ]
  },
  {
   "cell_type": "code",
   "execution_count": 129,
   "id": "fb93bbc1-3ad4-401f-b046-b4e0c776979c",
   "metadata": {},
   "outputs": [
    {
     "data": {
      "text/plain": [
       "37.48975630074022"
      ]
     },
     "execution_count": 129,
     "metadata": {},
     "output_type": "execute_result"
    }
   ],
   "source": [
    "rg=Ridge(alpha=1.5)\n",
    "rg.fit(x_train,y_train)\n",
    "rg.score(x_test,y_test)*100"
   ]
  },
  {
   "cell_type": "code",
   "execution_count": 130,
   "id": "acf9e54a-e5d9-49ea-a2db-e8522b6a0ca8",
   "metadata": {},
   "outputs": [
    {
     "data": {
      "image/png": "[encoded data removed]",
      "text/plain": [
       "<Figure size 1000x800 with 1 Axes>"
      ]
     },
     "metadata": {},
     "output_type": "display_data"
    }
   ],
   "source": [
    "plt.figure(figsize=(10,8))\n",
    "plt.title(\"Ridge Regression\")\n",
    "plt.xlabel(\"Columns\")\n",
    "plt.ylabel(\"coef\")\n",
    "plt.bar(x.columns,rg.coef_)\n",
    "plt.show()"
   ]
  },
  {
   "cell_type": "markdown",
   "id": "e0b8e5b8-1ba3-4ff7-911a-a3768b3981d1",
   "metadata": {},
   "source": [
    "# Check the coffecients of all in table"
   ]
  },
  {
   "cell_type": "code",
   "execution_count": 144,
   "id": "375bcdd1-b838-4808-b615-20c7fca2ccf9",
   "metadata": {},
   "outputs": [],
   "source": [
    "df = pd.DataFrame({\"col_name\":x.columns,\"LinearRegression\":lr.coef_,\"Lasso\":la.coef_,\"Ridge\":rg.coef_})"
   ]
  },
  {
   "cell_type": "code",
   "execution_count": 145,
   "id": "d3851f6f-0ef6-439b-9c0d-cc4d61a500ec",
   "metadata": {},
   "outputs": [
    {
     "data": {
      "text/html": [
       "<div>\n",
       "<style scoped>\n",
       "    .dataframe tbody tr th:only-of-type {\n",
       "        vertical-align: middle;\n",
       "    }\n",
       "\n",
       "    .dataframe tbody tr th {\n",
       "        vertical-align: top;\n",
       "    }\n",
       "\n",
       "    .dataframe thead th {\n",
       "        text-align: right;\n",
       "    }\n",
       "</style>\n",
       "<table border=\"1\" class=\"dataframe\">\n",
       "  <thead>\n",
       "    <tr style=\"text-align: right;\">\n",
       "      <th></th>\n",
       "      <th>col_name</th>\n",
       "      <th>LinearRegression</th>\n",
       "      <th>Lasso</th>\n",
       "      <th>Ridge</th>\n",
       "    </tr>\n",
       "  </thead>\n",
       "  <tbody>\n",
       "    <tr>\n",
       "      <th>0</th>\n",
       "      <td>Area</td>\n",
       "      <td>1.038300e+08</td>\n",
       "      <td>1.038300e+08</td>\n",
       "      <td>1.038261e+08</td>\n",
       "    </tr>\n",
       "    <tr>\n",
       "      <th>1</th>\n",
       "      <td>Room</td>\n",
       "      <td>4.285168e+09</td>\n",
       "      <td>4.285168e+09</td>\n",
       "      <td>4.282214e+09</td>\n",
       "    </tr>\n",
       "    <tr>\n",
       "      <th>2</th>\n",
       "      <td>Parking</td>\n",
       "      <td>1.902428e+08</td>\n",
       "      <td>1.902428e+08</td>\n",
       "      <td>1.908379e+08</td>\n",
       "    </tr>\n",
       "    <tr>\n",
       "      <th>3</th>\n",
       "      <td>Warehouse</td>\n",
       "      <td>2.015977e+08</td>\n",
       "      <td>2.015977e+08</td>\n",
       "      <td>2.015212e+08</td>\n",
       "    </tr>\n",
       "    <tr>\n",
       "      <th>4</th>\n",
       "      <td>Elevator</td>\n",
       "      <td>9.853583e+07</td>\n",
       "      <td>9.853583e+07</td>\n",
       "      <td>9.878530e+07</td>\n",
       "    </tr>\n",
       "    <tr>\n",
       "      <th>5</th>\n",
       "      <td>Address</td>\n",
       "      <td>-1.460019e+08</td>\n",
       "      <td>-1.460019e+08</td>\n",
       "      <td>-1.461700e+08</td>\n",
       "    </tr>\n",
       "  </tbody>\n",
       "</table>\n",
       "</div>"
      ],
      "text/plain": [
       "    col_name  LinearRegression         Lasso         Ridge\n",
       "0       Area      1.038300e+08  1.038300e+08  1.038261e+08\n",
       "1       Room      4.285168e+09  4.285168e+09  4.282214e+09\n",
       "2    Parking      1.902428e+08  1.902428e+08  1.908379e+08\n",
       "3  Warehouse      2.015977e+08  2.015977e+08  2.015212e+08\n",
       "4   Elevator      9.853583e+07  9.853583e+07  9.878530e+07\n",
       "5    Address     -1.460019e+08 -1.460019e+08 -1.461700e+08"
      ]
     },
     "execution_count": 145,
     "metadata": {},
     "output_type": "execute_result"
    }
   ],
   "source": [
    "df"
   ]
  },
  {
   "cell_type": "code",
   "execution_count": null,
   "id": "23b9f533-ed60-4cbd-91eb-c7a00480e593",
   "metadata": {},
   "outputs": [],
   "source": []
  }
 ],
 "metadata": {
  "kernelspec": {
   "display_name": "Python 3 (ipykernel)",
   "language": "python",
   "name": "python3"
  },
  "language_info": {
   "codemirror_mode": {
    "name": "ipython",
    "version": 3
   },
   "file_extension": ".py",
   "mimetype": "text/x-python",
   "name": "python",
   "nbconvert_exporter": "python",
   "pygments_lexer": "ipython3",
   "version": "3.12.7"
  }
 },
 "nbformat": 4,
 "nbformat_minor": 5
}
